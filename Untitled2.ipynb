{
 "cells": [
  {
   "cell_type": "code",
   "execution_count": 1,
   "id": "floating-money",
   "metadata": {},
   "outputs": [],
   "source": [
    "import torch\n",
    "from models.segmentors.rca_iunet import RCA_IUNET\n",
    "from models.segmentors.gated_conv import GatedConv2d\n",
    "import torch.nn as nn"
   ]
  },
  {
   "cell_type": "code",
   "execution_count": 2,
   "id": "reduced-wales",
   "metadata": {},
   "outputs": [
    {
     "name": "stdout",
     "output_type": "stream",
     "text": [
      "torch.Size([8, 1, 128, 128])\n"
     ]
    }
   ],
   "source": [
    "x = torch.rand([8, 1, 128, 128])\n",
    "model = RCA_IUNET(1, nc=16)\n",
    "a = model(x)\n",
    "print(a.shape)"
   ]
  },
  {
   "cell_type": "code",
   "execution_count": 3,
   "id": "spare-alexandria",
   "metadata": {},
   "outputs": [
    {
     "name": "stdout",
     "output_type": "stream",
     "text": [
      "torch.Size([8, 1, 128, 128])\n"
     ]
    }
   ],
   "source": [
    "pool = nn.MaxPool2d(2, 1, 1, 2)\n",
    "b = pool(x)\n",
    "print(b.shape)"
   ]
  },
  {
   "cell_type": "code",
   "execution_count": 4,
   "id": "continent-variety",
   "metadata": {},
   "outputs": [
    {
     "name": "stdout",
     "output_type": "stream",
     "text": [
      "torch.Size([8, 16, 128, 128])\n"
     ]
    }
   ],
   "source": [
    "conv = GatedConv2d(1, 16, 3, padding=1)\n",
    "z = conv(x)\n",
    "print(z.shape)"
   ]
  },
  {
   "cell_type": "code",
   "execution_count": 5,
   "id": "delayed-group",
   "metadata": {},
   "outputs": [
    {
     "name": "stdout",
     "output_type": "stream",
     "text": [
      "torch.Size([8, 16, 128, 128])\n"
     ]
    }
   ],
   "source": [
    "conv = nn.Conv2d(1, 16, 3, padding=1)\n",
    "z = conv(x)\n",
    "print(z.shape)"
   ]
  },
  {
   "cell_type": "code",
   "execution_count": null,
   "id": "phantom-production",
   "metadata": {},
   "outputs": [],
   "source": []
  }
 ],
 "metadata": {
  "kernelspec": {
   "display_name": "Python 3",
   "language": "python",
   "name": "python3"
  },
  "language_info": {
   "codemirror_mode": {
    "name": "ipython",
    "version": 3
   },
   "file_extension": ".py",
   "mimetype": "text/x-python",
   "name": "python",
   "nbconvert_exporter": "python",
   "pygments_lexer": "ipython3",
   "version": "3.9.2"
  }
 },
 "nbformat": 4,
 "nbformat_minor": 5
}
