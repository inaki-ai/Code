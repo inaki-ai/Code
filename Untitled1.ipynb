{
 "cells": [
  {
   "cell_type": "code",
   "execution_count": 1,
   "id": "union-improvement",
   "metadata": {},
   "outputs": [],
   "source": [
    "import torch\n",
    "from models.segmentors.rca_iunet import RCA_IUNET\n",
    "from models.segmentors.rdau_net import RDAU_NET\n",
    "from models.segmentors.unet_sharp import UnetSharp\n",
    "from models.segmentors.unet import UNet\n",
    "from models.segmentors.unetpp import UNetpp\n",
    "from models.segmentors.segnet import SegNet"
   ]
  },
  {
   "cell_type": "code",
   "execution_count": 2,
   "id": "ancient-command",
   "metadata": {},
   "outputs": [],
   "source": [
    "def get_n_params(model):\n",
    "        pp=0\n",
    "        for p in list(model.parameters()):\n",
    "            nn=1\n",
    "            for s in list(p.size()):\n",
    "                nn = nn*s\n",
    "            pp += nn\n",
    "        return pp"
   ]
  },
  {
   "cell_type": "code",
   "execution_count": 3,
   "id": "starting-texture",
   "metadata": {},
   "outputs": [],
   "source": [
    " x = torch.rand([8, 1, 128, 128])"
   ]
  },
  {
   "cell_type": "code",
   "execution_count": 4,
   "id": "bulgarian-monitor",
   "metadata": {},
   "outputs": [
    {
     "name": "stdout",
     "output_type": "stream",
     "text": [
      "torch.Size([8, 1, 128, 128])\n",
      "RCA IUNET: 3250757\n"
     ]
    }
   ],
   "source": [
    "model = RCA_IUNET(1, nc=16)\n",
    "a = model(x)\n",
    "print(a.shape)\n",
    "print(f\"RCA IUNET: {get_n_params(model)}\")"
   ]
  },
  {
   "cell_type": "code",
   "execution_count": 5,
   "id": "regulated-afternoon",
   "metadata": {},
   "outputs": [
    {
     "name": "stdout",
     "output_type": "stream",
     "text": [
      "torch.Size([8, 1, 128, 128])\n",
      "Unet#: 1333355\n"
     ]
    }
   ],
   "source": [
    "model = UnetSharp(nc=16, pooling='Hybrid')\n",
    "a = model(x)\n",
    "print(a.shape)\n",
    "print(f\"Unet#: {get_n_params(model)}\")"
   ]
  },
  {
   "cell_type": "code",
   "execution_count": 6,
   "id": "renewable-decade",
   "metadata": {},
   "outputs": [
    {
     "name": "stdout",
     "output_type": "stream",
     "text": [
      "torch.Size([8, 1, 128, 128])\n",
      "Unet#: 4320033\n"
     ]
    }
   ],
   "source": [
    "model = UNet(1, 1)\n",
    "a = model(x)\n",
    "print(a.shape)\n",
    "print(f\"Unet#: {get_n_params(model)}\")"
   ]
  },
  {
   "cell_type": "code",
   "execution_count": 7,
   "id": "renewable-twelve",
   "metadata": {},
   "outputs": [
    {
     "name": "stdout",
     "output_type": "stream",
     "text": [
      "torch.Size([8, 1, 128, 128])\n",
      "Unet#: 25052386\n"
     ]
    }
   ],
   "source": [
    "model = RDAU_NET()\n",
    "a = model(x)\n",
    "print(a.shape)\n",
    "print(f\"Unet#: {get_n_params(model)}\")"
   ]
  },
  {
   "cell_type": "code",
   "execution_count": 8,
   "id": "twelve-french",
   "metadata": {},
   "outputs": [
    {
     "name": "stdout",
     "output_type": "stream",
     "text": [
      "torch.Size([8, 1, 128, 128])\n",
      "Unet#: 36628481\n"
     ]
    }
   ],
   "source": [
    "model = UNetpp(1)\n",
    "a = model(x)\n",
    "print(a.shape)\n",
    "print(f\"Unet#: {get_n_params(model)}\")"
   ]
  },
  {
   "cell_type": "code",
   "execution_count": 10,
   "id": "selective-vietnamese",
   "metadata": {},
   "outputs": [
    {
     "name": "stdout",
     "output_type": "stream",
     "text": [
      "torch.Size([8, 1, 128, 128])\n",
      "Segnet: 39789187\n"
     ]
    }
   ],
   "source": [
    "model = SegNet(pretrained=False)\n",
    "x = torch.rand([8, 3, 128, 128])\n",
    "a = model(x)\n",
    "print(a.shape)\n",
    "print(f\"Segnet: {get_n_params(model)}\")"
   ]
  },
  {
   "cell_type": "code",
   "execution_count": null,
   "id": "twelve-bobby",
   "metadata": {},
   "outputs": [],
   "source": []
  }
 ],
 "metadata": {
  "kernelspec": {
   "display_name": "Python 3",
   "language": "python",
   "name": "python3"
  },
  "language_info": {
   "codemirror_mode": {
    "name": "ipython",
    "version": 3
   },
   "file_extension": ".py",
   "mimetype": "text/x-python",
   "name": "python",
   "nbconvert_exporter": "python",
   "pygments_lexer": "ipython3",
   "version": "3.9.2"
  }
 },
 "nbformat": 4,
 "nbformat_minor": 5
}
