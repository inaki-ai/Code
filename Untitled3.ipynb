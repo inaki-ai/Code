{
 "cells": [
  {
   "cell_type": "code",
   "execution_count": 1,
   "id": "private-magnitude",
   "metadata": {},
   "outputs": [],
   "source": [
    "from scipy.stats import kruskal\n",
    "import pandas as pd\n",
    "import numpy as np"
   ]
  },
  {
   "cell_type": "code",
   "execution_count": 2,
   "id": "serial-auction",
   "metadata": {},
   "outputs": [],
   "source": [
    "data_list =  []"
   ]
  },
  {
   "cell_type": "code",
   "execution_count": 3,
   "id": "fresh-marijuana",
   "metadata": {},
   "outputs": [],
   "source": [
    "data = pd.read_csv('experiments/exp4/segmentations/metrics.csv')\n",
    "dsc_net1 = data['dsc'].to_numpy()\n",
    "f1_net1 = data['f1_score'].dropna().to_numpy()\n",
    "data_list.append(('Unet', dsc_net1, f1_net1))"
   ]
  },
  {
   "cell_type": "code",
   "execution_count": 4,
   "id": "round-roberts",
   "metadata": {},
   "outputs": [],
   "source": [
    "data = pd.read_csv('RDAUNET/segmentations/metrics.csv')\n",
    "dsc_net2 = data['dsc'].to_numpy()\n",
    "f1_net2 = data['f1_score'].dropna().to_numpy()\n",
    "data_list.append(('RDAUnet', dsc_net2, f1_net2))"
   ]
  },
  {
   "cell_type": "code",
   "execution_count": 5,
   "id": "corrected-amplifier",
   "metadata": {},
   "outputs": [],
   "source": [
    "data = pd.read_csv('UNETPP/segmentations/metrics.csv')\n",
    "dsc_net3 = data['dsc'].to_numpy()\n",
    "f1_net3 = data['f1_score'].dropna().to_numpy()\n",
    "data_list.append(('Unetpp', dsc_net3, f1_net3))"
   ]
  },
  {
   "cell_type": "code",
   "execution_count": 6,
   "id": "hidden-genetics",
   "metadata": {},
   "outputs": [],
   "source": [
    "data = pd.read_csv('RCA_IUNET/segmentations/metrics.csv')\n",
    "dsc_net4 = data['dsc'].to_numpy()\n",
    "f1_net4 = data['f1_score'].dropna().to_numpy()\n",
    "data_list.append(('RCAIUnet', dsc_net4, f1_net4))"
   ]
  },
  {
   "cell_type": "code",
   "execution_count": 7,
   "id": "instructional-search",
   "metadata": {},
   "outputs": [],
   "source": [
    "data = pd.read_csv('experiments/exp1/segmentations/metrics.csv')\n",
    "dsc_net4 = data['dsc'].to_numpy()\n",
    "f1_net4 = data['f1_score'].dropna().to_numpy()\n",
    "data_list.append(('SegNet', dsc_net4, f1_net4))"
   ]
  },
  {
   "cell_type": "code",
   "execution_count": 8,
   "id": "hourly-jacksonville",
   "metadata": {},
   "outputs": [
    {
     "data": {
      "text/plain": [
       "KruskalResult(statistic=454.92345121192193, pvalue=2.7956865382676312e-98)"
      ]
     },
     "execution_count": 8,
     "metadata": {},
     "output_type": "execute_result"
    }
   ],
   "source": [
    "# Si es p valor es menor que la significatividad, se rechaza la hipotesis nula de que todos los datos tienen la misma media\n",
    "kruskal(dsc_net1, dsc_net2, dsc_net3, dsc_net4)"
   ]
  },
  {
   "cell_type": "code",
   "execution_count": 9,
   "id": "beautiful-noise",
   "metadata": {},
   "outputs": [
    {
     "name": "stdout",
     "output_type": "stream",
     "text": [
      "Models: Unet and RDAUnet -- pval_dsc = 0.916, pval_f1 = 0.754\n",
      "Models: Unet and Unetpp -- pval_dsc = 0.903, pval_f1 = 0.879\n",
      "Models: Unet and RCAIUnet -- pval_dsc = 0.213, pval_f1 = 0.530\n",
      "Models: Unet and SegNet -- pval_dsc = 0.000, pval_f1 = 0.000\n",
      "Models: RDAUnet and Unetpp -- pval_dsc = 0.974, pval_f1 = 0.888\n",
      "Models: RDAUnet and RCAIUnet -- pval_dsc = 0.252, pval_f1 = 0.727\n",
      "Models: RDAUnet and SegNet -- pval_dsc = 0.000, pval_f1 = 0.000\n",
      "Models: Unetpp and RCAIUnet -- pval_dsc = 0.282, pval_f1 = 0.662\n",
      "Models: Unetpp and SegNet -- pval_dsc = 0.000, pval_f1 = 0.000\n",
      "Models: RCAIUnet and SegNet -- pval_dsc = 0.000, pval_f1 = 0.000\n"
     ]
    }
   ],
   "source": [
    "done = []\n",
    "p_values_dsc = []\n",
    "p_values_f1 = []\n",
    "\n",
    "for m1 in data_list:\n",
    "    for m2 in data_list:\n",
    "        if m1[0] != m2[0] and f\"{m1[0]}-{m2[0]}\" not in done and f\"{m2[0]}-{m1[0]}\" not in done:\n",
    "            done.append(f\"{m1[0]}-{m2[0]}\")\n",
    "            p_dsc = kruskal(m1[1], m2[1]).pvalue\n",
    "            p_f1 = kruskal(m1[2], m2[2]).pvalue\n",
    "            print(f\"Models: {m1[0]} and {m2[0]} -- pval_dsc = {p_dsc:.3f}, pval_f1 = {p_f1:.3f}\")\n",
    "            p_values_dsc.append(p_dsc)\n",
    "            p_values_f1.append(p_f1)"
   ]
  },
  {
   "cell_type": "code",
   "execution_count": 10,
   "id": "approved-faculty",
   "metadata": {},
   "outputs": [],
   "source": [
    "from statsmodels.stats.multitest import multipletests"
   ]
  },
  {
   "cell_type": "code",
   "execution_count": 19,
   "id": "antique-favorite",
   "metadata": {},
   "outputs": [
    {
     "name": "stdout",
     "output_type": "stream",
     "text": [
      "Corrected alpha dsc: 0.005 - f1: 0.005\n",
      "\n",
      "Models: Unet-RDAUnet\n",
      "\tcorrected_pval_dsc = 1.000 -> Reject H0: False\n",
      "\tcorrected_pval_dsc = 1.000 -> Reject H0: False\n",
      "\n",
      "Models: Unet-Unetpp\n",
      "\tcorrected_pval_dsc = 1.000 -> Reject H0: False\n",
      "\tcorrected_pval_dsc = 1.000 -> Reject H0: False\n",
      "\n",
      "Models: Unet-RCAIUnet\n",
      "\tcorrected_pval_dsc = 1.000 -> Reject H0: False\n",
      "\tcorrected_pval_dsc = 1.000 -> Reject H0: False\n",
      "\n",
      "Models: Unet-SegNet\n",
      "\tcorrected_pval_dsc = 0.000 -> Reject H0: True\n",
      "\tcorrected_pval_dsc = 0.000 -> Reject H0: True\n",
      "\n",
      "Models: RDAUnet-Unetpp\n",
      "\tcorrected_pval_dsc = 1.000 -> Reject H0: False\n",
      "\tcorrected_pval_dsc = 1.000 -> Reject H0: False\n",
      "\n",
      "Models: RDAUnet-RCAIUnet\n",
      "\tcorrected_pval_dsc = 1.000 -> Reject H0: False\n",
      "\tcorrected_pval_dsc = 1.000 -> Reject H0: False\n",
      "\n",
      "Models: RDAUnet-SegNet\n",
      "\tcorrected_pval_dsc = 0.000 -> Reject H0: True\n",
      "\tcorrected_pval_dsc = 0.000 -> Reject H0: True\n",
      "\n",
      "Models: Unetpp-RCAIUnet\n",
      "\tcorrected_pval_dsc = 1.000 -> Reject H0: False\n",
      "\tcorrected_pval_dsc = 1.000 -> Reject H0: False\n",
      "\n",
      "Models: Unetpp-SegNet\n",
      "\tcorrected_pval_dsc = 0.000 -> Reject H0: True\n",
      "\tcorrected_pval_dsc = 0.000 -> Reject H0: True\n",
      "\n",
      "Models: RCAIUnet-SegNet\n",
      "\tcorrected_pval_dsc = 0.000 -> Reject H0: True\n",
      "\tcorrected_pval_dsc = 0.000 -> Reject H0: True\n",
      "\n"
     ]
    }
   ],
   "source": [
    "reject_H0_dsc, corrected_pvals_dsc, _, corrected_alpha_dsc = multipletests(p_values_dsc, alpha=0.05, method='holm', is_sorted=False, returnsorted=False)\n",
    "reject_H0_f1, corrected_pvals_f1, _, corrected_alpha_f1 = multipletests(p_values_dsc, alpha=0.05, method='holm', is_sorted=False, returnsorted=False)\n",
    "print(f\"Corrected alpha dsc: {corrected_alpha_dsc} - f1: {corrected_alpha_f1}\\n\")\n",
    "for model, pval_dsc, H0_dsc, pval_f1, H0_f1 in zip(done,corrected_pvals_dsc, reject_H0_dsc, corrected_pvals_f1, reject_H0_f1):\n",
    "    print(f\"Models: {model}\\n\\tcorrected_pval_dsc = {pval_dsc:.3f} -> Reject H0: {H0_dsc}\\n\\tcorrected_pval_dsc = {pval_f1:.3f} -> Reject H0: {H0_f1}\\n\")"
   ]
  },
  {
   "cell_type": "code",
   "execution_count": null,
   "id": "stopped-robertson",
   "metadata": {},
   "outputs": [],
   "source": []
  }
 ],
 "metadata": {
  "kernelspec": {
   "display_name": "Python 3",
   "language": "python",
   "name": "python3"
  },
  "language_info": {
   "codemirror_mode": {
    "name": "ipython",
    "version": 3
   },
   "file_extension": ".py",
   "mimetype": "text/x-python",
   "name": "python",
   "nbconvert_exporter": "python",
   "pygments_lexer": "ipython3",
   "version": "3.9.2"
  }
 },
 "nbformat": 4,
 "nbformat_minor": 5
}
